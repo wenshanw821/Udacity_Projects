{
 "cells": [
  {
   "cell_type": "markdown",
   "metadata": {},
   "source": [
    "# Results with Merged Dataset\n",
    "Remember to use your new dataset, `combined_dataset.csv`"
   ]
  },
  {
   "cell_type": "code",
   "execution_count": 1,
   "metadata": {},
   "outputs": [],
   "source": [
    "# load dataset\n",
    "import pandas as pd\n",
    "\n",
    "df = pd.read_csv('combined_dataset.csv')"
   ]
  },
  {
   "cell_type": "markdown",
   "metadata": {
    "collapsed": true
   },
   "source": [
    "### Q5: For all of the models that were produced in 2008 that are still being produced now, how much has the mpg improved and which vehicle improved the most?"
   ]
  },
  {
   "cell_type": "code",
   "execution_count": 5,
   "metadata": {},
   "outputs": [
    {
     "data": {
      "text/plain": [
       "model_2008                    object\n",
       "displ_2008                   float64\n",
       "cyl_2008                       int64\n",
       "trans_2008                    object\n",
       "drive_2008                    object\n",
       "fuel_2008                     object\n",
       "veh_class_2008                object\n",
       "air_pollution_score_2008     float64\n",
       "city_mpg_2008                float64\n",
       "hwy_mpg_2008                 float64\n",
       "cmb_mpg_2008                 float64\n",
       "greenhouse_gas_score_2008      int64\n",
       "smartway_2008                 object\n",
       "model_2018                    object\n",
       "displ_2018                   float64\n",
       "cyl_2018                       int64\n",
       "trans_2018                    object\n",
       "drive_2018                    object\n",
       "fuel_2018                     object\n",
       "veh_class_2018                object\n",
       "air_pollution_score_2018     float64\n",
       "city_mpg_2018                float64\n",
       "hwy_mpg_2018                 float64\n",
       "cmb_mpg_2018                 float64\n",
       "greenhouse_gas_score_2018      int64\n",
       "smartway_2018                 object\n",
       "dtype: object"
      ]
     },
     "execution_count": 5,
     "metadata": {},
     "output_type": "execute_result"
    }
   ],
   "source": [
    "df.dtypes"
   ]
  },
  {
   "cell_type": "code",
   "execution_count": 13,
   "metadata": {},
   "outputs": [],
   "source": [
    "model_mpg_08 = df.groupby('model_2008').cmb_mpg_2008.mean()"
   ]
  },
  {
   "cell_type": "code",
   "execution_count": 14,
   "metadata": {},
   "outputs": [],
   "source": [
    "model_mpg_18 = df.groupby('model_2018').cmb_mpg_2018.mean()"
   ]
  },
  {
   "cell_type": "code",
   "execution_count": 12,
   "metadata": {},
   "outputs": [
    {
     "data": {
      "text/plain": [
       "True"
      ]
     },
     "execution_count": 12,
     "metadata": {},
     "output_type": "execute_result"
    }
   ],
   "source": [
    "(df.model_2008 == df.model_2018).all()"
   ]
  },
  {
   "cell_type": "code",
   "execution_count": 45,
   "metadata": {},
   "outputs": [],
   "source": [
    "mpg_change = model_mpg_18 - model_mpg_08"
   ]
  },
  {
   "cell_type": "code",
   "execution_count": 47,
   "metadata": {},
   "outputs": [
    {
     "data": {
      "text/plain": [
       "'VOLVO XC 90'"
      ]
     },
     "execution_count": 47,
     "metadata": {},
     "output_type": "execute_result"
    }
   ],
   "source": [
    "mpg_change[mpg_change==mpg_change.max()].index[0]"
   ]
  },
  {
   "cell_type": "code",
   "execution_count": null,
   "metadata": {},
   "outputs": [],
   "source": []
  }
 ],
 "metadata": {
  "kernelspec": {
   "display_name": "Python 3",
   "language": "python",
   "name": "python3"
  },
  "language_info": {
   "codemirror_mode": {
    "name": "ipython",
    "version": 3
   },
   "file_extension": ".py",
   "mimetype": "text/x-python",
   "name": "python",
   "nbconvert_exporter": "python",
   "pygments_lexer": "ipython3",
   "version": "3.6.6"
  }
 },
 "nbformat": 4,
 "nbformat_minor": 2
}
